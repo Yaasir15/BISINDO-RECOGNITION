{
 "cells": [
  {
   "cell_type": "code",
   "execution_count": 2,
   "metadata": {},
   "outputs": [
    {
     "name": "stderr",
     "output_type": "stream",
     "text": [
      "Using TensorFlow backend.\n"
     ]
    },
    {
     "name": "stdout",
     "output_type": "stream",
     "text": [
      "Found 23400 images belonging to 26 classes.\n",
      "Found 2600 images belonging to 26 classes.\n"
     ]
    }
   ],
   "source": [
    "# Part 1 Building the CNN\n",
    "# Importing the Keras libraries and packages\n",
    "from keras.models import Sequential\n",
    "from keras.layers import Conv2D\n",
    "from keras.layers import MaxPooling2D\n",
    "from keras.layers import Flatten\n",
    "from keras.layers import Dense, Dropout\n",
    "from keras import optimizers\n",
    "\n",
    "# Images Dimensions\n",
    "img_width, img_height = 100, 100\n",
    "train_data_dir = 'mydata/training_set'\n",
    "test_data_dir = 'mydata/test_set'\n",
    "\n",
    "# Initialing the CNN\n",
    "classifier = Sequential()\n",
    "\n",
    "# Step 1 - Convolution Layer \n",
    "classifier.add(Conv2D(32, (3, 3), activation = \"relu\", input_shape = (100, 100, 3)))\n",
    "# Parameter pertama (32) adalah nilai filter nya\n",
    "# Parameter kedua adalah dimensi filter nya (3×3)\n",
    "# Parameter ketiga adalah fungsi aktivasi yang kita gunakan (relu)\n",
    "# Parameter keempat self explained yaitu bentuk input nya dan tipe nya (RGB atau Black/white)\n",
    "\n",
    "# Step 2 - Pooling, Pooling bertujuan untuk mereduksi ukuran gambar\n",
    "classifier.add(MaxPooling2D(pool_size =(2,2)))\n",
    "\n",
    "# Adding second convolution layer\n",
    "classifier.add(Conv2D(32, (3, 3), activation = \"relu\"))\n",
    "classifier.add(MaxPooling2D(pool_size =(2,2)))\n",
    "\n",
    "# Adding 3rd Concolution Layer\n",
    "classifier.add(Conv2D(64, (3, 3), activation = \"relu\"))\n",
    "classifier.add(MaxPooling2D(pool_size =(2,2)))\n",
    "\n",
    "\n",
    "# Step 3 - Flattening\n",
    "# Data pooling yang kita miliki berupa array 2 dimensi kemudian dikonversi menjadi data satu dimensi single vector\n",
    "classifier.add(Flatten())\n",
    "\n",
    "# Step 4 - Full Connection\n",
    "# Dense adalah fungsi untuk menambahkan layer yang fully connected.\n",
    "# Parameter 1 (units) menandakan jumlah node yang harus ada di hidden layer, nilainya antara jumlah input node dan output node\n",
    "classifier.add(Dense(256, activation = \"relu\"))\n",
    "classifier.add(Dropout(0.5))\n",
    "classifier.add(Dense(26, activation = \"softmax\"))\n",
    "\n",
    "# Compiling The CNN,optimizer yang digunakan Stochastic Gradient Descent dengan learning rate 0.01 \n",
    "classifier.compile(\n",
    "              optimizer = optimizers.SGD(lr = 0.01),\n",
    "              loss = 'categorical_crossentropy',\n",
    "              metrics = ['accuracy'])\n",
    "\n",
    "# Part 2 Fittting the CNN to the image\n",
    "from keras.preprocessing.image import ImageDataGenerator\n",
    "train_datagen = ImageDataGenerator(\n",
    "        rescale=1./255,\n",
    "        shear_range=0.2,\n",
    "        zoom_range=0.2,\n",
    "        horizontal_flip=True)\n",
    "\n",
    "test_datagen = ImageDataGenerator(rescale=1./255)\n",
    "\n",
    "training_set = train_datagen.flow_from_directory(\n",
    "        train_data_dir,\n",
    "        target_size=(img_width, img_height),\n",
    "        batch_size=32,\n",
    "        class_mode='categorical')\n",
    "\n",
    "test_set = test_datagen.flow_from_directory(\n",
    "        test_data_dir,\n",
    "        target_size=(img_width, img_height),\n",
    "        batch_size=32,\n",
    "        class_mode='categorical')"
   ]
  },
  {
   "cell_type": "code",
   "execution_count": 3,
   "metadata": {},
   "outputs": [
    {
     "name": "stdout",
     "output_type": "stream",
     "text": [
      "Epoch 1/8\n",
      "960/960 [==============================] - 803s 837ms/step - loss: 0.9961 - acc: 0.7081 - val_loss: 0.2170 - val_acc: 0.9320\n",
      "Epoch 2/8\n",
      "960/960 [==============================] - 223s 232ms/step - loss: 0.2285 - acc: 0.9320 - val_loss: 0.1771 - val_acc: 0.9558\n",
      "Epoch 3/8\n",
      "960/960 [==============================] - 227s 237ms/step - loss: 0.1471 - acc: 0.9566 - val_loss: 0.1309 - val_acc: 0.9696\n",
      "Epoch 4/8\n",
      "960/960 [==============================] - 225s 235ms/step - loss: 0.1046 - acc: 0.9698 - val_loss: 0.1210 - val_acc: 0.9719\n",
      "Epoch 5/8\n",
      "960/960 [==============================] - 227s 237ms/step - loss: 0.0865 - acc: 0.9736 - val_loss: 0.1122 - val_acc: 0.9762\n",
      "Epoch 6/8\n",
      "960/960 [==============================] - 229s 239ms/step - loss: 0.0696 - acc: 0.9790 - val_loss: 0.1218 - val_acc: 0.9723\n",
      "Epoch 7/8\n",
      "960/960 [==============================] - 229s 238ms/step - loss: 0.0591 - acc: 0.9817 - val_loss: 0.0979 - val_acc: 0.9777\n",
      "Epoch 8/8\n",
      "960/960 [==============================] - 231s 240ms/step - loss: 0.0561 - acc: 0.9830 - val_loss: 0.0771 - val_acc: 0.9792\n",
      "dict_keys(['val_loss', 'val_acc', 'loss', 'acc'])\n"
     ]
    }
   ],
   "source": [
    "model = classifier.fit_generator(\n",
    "        training_set,\n",
    "        steps_per_epoch=960,\n",
    "        epochs=8,\n",
    "        validation_data = test_set,\n",
    "        validation_steps = 2600 \n",
    "      )\n",
    "\n",
    "# Saving the model\n",
    "import h5py\n",
    "classifier.save('Trained_model_bisindo2.h5')\n",
    "\n",
    "print(model.history.keys())"
   ]
  },
  {
   "cell_type": "code",
   "execution_count": 5,
   "metadata": {},
   "outputs": [
    {
     "data": {
      "image/png": "[encoded data removed]",
      "text/plain": [
       "<Figure size 432x288 with 1 Axes>"
      ]
     },
     "metadata": {},
     "output_type": "display_data"
    }
   ],
   "source": [
    "import matplotlib.pyplot as plt\n",
    "# summarize history for accuracy\n",
    "plt.plot(model.history['acc'])\n",
    "plt.plot(model.history['val_acc'])\n",
    "plt.title('model accuracy')\n",
    "plt.ylabel('accuracy')\n",
    "plt.xlabel('epoch')\n",
    "plt.legend(['train', 'test'], loc='upper left')\n",
    "plt.show()"
   ]
  },
  {
   "cell_type": "code",
   "execution_count": 6,
   "metadata": {},
   "outputs": [
    {
     "data": {
      "image/png": "[encoded data removed]",
      "text/plain": [
       "<Figure size 432x288 with 1 Axes>"
      ]
     },
     "metadata": {},
     "output_type": "display_data"
    }
   ],
   "source": [
    "# summarize history for loss\n",
    "plt.plot(model.history['loss'])\n",
    "plt.plot(model.history['val_loss'])\n",
    "plt.title('model loss')\n",
    "plt.ylabel('loss')\n",
    "plt.xlabel('epoch')\n",
    "plt.legend(['train', 'test'], loc='upper left')\n",
    "plt.show()"
   ]
  },
  {
   "cell_type": "code",
   "execution_count": null,
   "metadata": {},
   "outputs": [],
   "source": []
  }
 ],
 "metadata": {
  "kernelspec": {
   "display_name": "Python 3",
   "language": "python",
   "name": "python3"
  },
  "language_info": {
   "codemirror_mode": {
    "name": "ipython",
    "version": 3
   },
   "file_extension": ".py",
   "mimetype": "text/x-python",
   "name": "python",
   "nbconvert_exporter": "python",
   "pygments_lexer": "ipython3",
   "version": "3.6.5"
  }
 },
 "nbformat": 4,
 "nbformat_minor": 2
}
